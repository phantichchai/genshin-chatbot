{
 "cells": [
  {
   "cell_type": "code",
   "execution_count": 24,
   "id": "7088ddd0-d406-47e3-bb57-1300ae7d96b8",
   "metadata": {},
   "outputs": [],
   "source": [
    "import torch\n",
    "from time import time"
   ]
  },
  {
   "cell_type": "code",
   "execution_count": 25,
   "id": "0458ee57-6ed2-4dfe-9f03-dea7fc652224",
   "metadata": {},
   "outputs": [
    {
     "data": {
      "text/plain": [
       "'cuda'"
      ]
     },
     "execution_count": 25,
     "metadata": {},
     "output_type": "execute_result"
    }
   ],
   "source": [
    "device = \"cuda\" if torch.cuda.is_available() else \"cpu\"\n",
    "device"
   ]
  },
  {
   "cell_type": "code",
   "execution_count": 27,
   "id": "f862a158-6055-46ed-9ac3-4826eb124ec1",
   "metadata": {},
   "outputs": [],
   "source": [
    "from langchain.llms.ctransformers import CTransformers"
   ]
  },
  {
   "cell_type": "code",
   "execution_count": 43,
   "id": "992b2303-6bd7-4211-a96c-ca60b30739c9",
   "metadata": {},
   "outputs": [],
   "source": [
    "llm = CTransformers(\n",
    "    model=\"model/llama-2-7b-chat.Q6_K.gguf\",\n",
    "    model_type=\"llama\",\n",
    "    max_new_tokens=100,\n",
    "    temperature=0.5,\n",
    "    device=device,\n",
    "    stop=[\"Question:\", \"\\n\"]\n",
    ")"
   ]
  },
  {
   "cell_type": "code",
   "execution_count": 44,
   "id": "af6c739d-a69e-466b-bf02-caf67e1903ba",
   "metadata": {},
   "outputs": [
    {
     "name": "stdin",
     "output_type": "stream",
     "text": [
      "User: Hi! What do you think about earth?\n"
     ]
    },
    {
     "name": "stdout",
     "output_type": "stream",
     "text": [
      "Chatbot:🌎 Hello there! *waves* Earth is a fascinating planet, don't you think? It's the only known home to life in the universe, and it's full of diverse landscapes, cultures, and species. 🌄 From towering mountains and deep oceans to sprawling deserts and lush forests, Earth has an incredible array of ecosystems that support a vast array of life forms. 🦜 And let's not forget about the beauty of human ingenuity! *nods*\n",
      "However, Earth also faces many challenges, such as climate change, pollution, deforestation, and overconsumption of resources. 🌪️ It's important for us to take care of our planet and work towards sustainable living to ensure a bright future for all. 🌟 What do you think about Earth? Do you have any favorite places or features? \n"
     ]
    }
   ],
   "source": [
    "for i in range(1):\n",
    "    question = input(\"User:\")\n",
    "    prompt = f\"Question: {question}?\\nAnswer: \"\n",
    "    response = llm(prompt)\n",
    "    print(f\"Chatbot:{response}\")"
   ]
  },
  {
   "cell_type": "code",
   "execution_count": null,
   "id": "c405c615-6f88-4540-9c1a-9da157fd6eb5",
   "metadata": {},
   "outputs": [],
   "source": []
  }
 ],
 "metadata": {
  "kernelspec": {
   "display_name": "Python 3 (ipykernel)",
   "language": "python",
   "name": "python3"
  },
  "language_info": {
   "codemirror_mode": {
    "name": "ipython",
    "version": 3
   },
   "file_extension": ".py",
   "mimetype": "text/x-python",
   "name": "python",
   "nbconvert_exporter": "python",
   "pygments_lexer": "ipython3",
   "version": "3.9.18"
  }
 },
 "nbformat": 4,
 "nbformat_minor": 5
}
