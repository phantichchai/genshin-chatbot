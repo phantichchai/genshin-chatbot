{
 "cells": [
  {
   "cell_type": "code",
   "execution_count": 261,
   "id": "ed59f3e3-033c-4df8-8604-ecff4d5cfe6e",
   "metadata": {},
   "outputs": [],
   "source": [
    "from langchain.document_loaders import AsyncHtmlLoader\n",
    "from langchain.document_transformers import BeautifulSoupTransformer\n",
    "import re"
   ]
  },
  {
   "cell_type": "code",
   "execution_count": 311,
   "id": "808755cc-f774-4aae-9b9d-e0bd9beedcac",
   "metadata": {
    "scrolled": true
   },
   "outputs": [
    {
     "name": "stderr",
     "output_type": "stream",
     "text": [
      "Fetching pages: 100%|############################################################################################################| 1/1 [00:00<00:00, 15.14it/s]\n"
     ]
    }
   ],
   "source": [
    "base_url = \"https://genshin-impact.fandom.com\"\n",
    "urls = [\"https://genshin-impact.fandom.com/wiki/Character/List\"]\n",
    "loader = AsyncHtmlLoader(urls)\n",
    "html = loader.load()"
   ]
  },
  {
   "cell_type": "code",
   "execution_count": 312,
   "id": "7b07cbfa-379c-4df4-ae1e-77c185b3e61c",
   "metadata": {},
   "outputs": [],
   "source": [
    "bs_transformer = BeautifulSoupTransformer()\n",
    "docs_transformed = bs_transformer.transform_documents(\n",
    "    html, tags_to_extract=[\"table\"]\n",
    ")"
   ]
  },
  {
   "cell_type": "code",
   "execution_count": 318,
   "id": "0551457c-3206-4b9b-a8b7-4b8446fa454f",
   "metadata": {},
   "outputs": [
    {
     "data": {
      "text/plain": [
       "'https://genshin-impact.fandom.com/wiki/Furina/Lore'"
      ]
     },
     "execution_count": 318,
     "metadata": {},
     "output_type": "execute_result"
    }
   ],
   "source": [
    "wiki = [item[1:-1] for item in set(docs_transformed[0].page_content.split()) if \"wiki\" in item]\n",
    "search_url = base_url\n",
    "for path in wiki:\n",
    "    search_url += path + \"/Lore\"  if 'furina' in path.lower() else \"\"\n",
    "search_url"
   ]
  },
  {
   "cell_type": "code",
   "execution_count": 353,
   "id": "df349518-f46e-48eb-aabb-cf8eceb36655",
   "metadata": {},
   "outputs": [
    {
     "name": "stderr",
     "output_type": "stream",
     "text": [
      "Fetching pages: 100%|############################################################################################################| 1/1 [00:00<00:00, 12.69it/s]\n"
     ]
    }
   ],
   "source": [
    "loader = AsyncHtmlLoader(search_url)\n",
    "html = loader.load()"
   ]
  },
  {
   "cell_type": "code",
   "execution_count": 354,
   "id": "dc4eb423-37d9-46e3-acf4-72e0871613c8",
   "metadata": {
    "scrolled": true
   },
   "outputs": [
    {
     "data": {
      "text/plain": [
       "26225"
      ]
     },
     "execution_count": 354,
     "metadata": {},
     "output_type": "execute_result"
    }
   ],
   "source": [
    "docs_transformed = bs_transformer.transform_documents(\n",
    "    html, tags_to_extract=[\"p\"]\n",
    ")\n",
    "len(docs_transformed[0].page_content)"
   ]
  },
  {
   "cell_type": "markdown",
   "id": "25e8c734-c14d-4b86-acfc-0c69d5645f13",
   "metadata": {},
   "source": [
    "### Convert to Vector Store"
   ]
  },
  {
   "cell_type": "code",
   "execution_count": 362,
   "id": "d6371421-a114-4010-9e43-c53679436fe3",
   "metadata": {},
   "outputs": [],
   "source": [
    "from langchain.text_splitter import RecursiveCharacterTextSplitter\n",
    "from langchain.document_loaders import AsyncHtmlLoader\n",
    "from langchain.embeddings import HuggingFaceEmbeddings\n",
    "from langchain.vectorstores.faiss import FAISS"
   ]
  },
  {
   "cell_type": "code",
   "execution_count": 363,
   "id": "5d48b52a-6053-4f1c-b692-7daa69475740",
   "metadata": {},
   "outputs": [
    {
     "name": "stderr",
     "output_type": "stream",
     "text": [
      "Fetching pages: 100%|############################################################################################################| 1/1 [00:00<00:00, 14.29it/s]\n"
     ]
    }
   ],
   "source": [
    "loader = AsyncHtmlLoader(search_url)\n",
    "documents = loader.load()"
   ]
  },
  {
   "cell_type": "code",
   "execution_count": 364,
   "id": "987a0185-8ec9-4047-b7ea-b88e0f355e5a",
   "metadata": {},
   "outputs": [],
   "source": [
    "text_splitter = RecursiveCharacterTextSplitter(chunk_size = 500, chunk_overlap = 50)\n",
    "texts = text_splitter.split_documents(documents=documents)"
   ]
  },
  {
   "cell_type": "code",
   "execution_count": 366,
   "id": "1f99cb6d-8e70-418c-8bff-75bdd563d80f",
   "metadata": {
    "scrolled": true
   },
   "outputs": [
    {
     "name": "stderr",
     "output_type": "stream",
     "text": [
      "G:\\miniconda3\\envs\\llama2\\lib\\site-packages\\tqdm\\auto.py:21: TqdmWarning: IProgress not found. Please update jupyter and ipywidgets. See https://ipywidgets.readthedocs.io/en/stable/user_install.html\n",
      "  from .autonotebook import tqdm as notebook_tqdm\n"
     ]
    }
   ],
   "source": [
    "embeddings = HuggingFaceEmbeddings(model_name = 'sentence-transformers/all-MiniLM-L6-v2', model_kwargs= {'device': 'cpu'})"
   ]
  },
  {
   "cell_type": "code",
   "execution_count": 368,
   "id": "29b49740-27aa-45b5-af2f-b2d7e9057c34",
   "metadata": {},
   "outputs": [],
   "source": [
    "DB_FAISS_PATH = \"vectorstores/db_faiss\"\n",
    "\n",
    "db = FAISS.from_documents(texts, embeddings)\n",
    "db.save_local(DB_FAISS_PATH)"
   ]
  },
  {
   "cell_type": "code",
   "execution_count": null,
   "id": "84b288f4-2647-466c-849b-618ba4bf5c27",
   "metadata": {},
   "outputs": [],
   "source": []
  }
 ],
 "metadata": {
  "kernelspec": {
   "display_name": "Python 3 (ipykernel)",
   "language": "python",
   "name": "python3"
  },
  "language_info": {
   "codemirror_mode": {
    "name": "ipython",
    "version": 3
   },
   "file_extension": ".py",
   "mimetype": "text/x-python",
   "name": "python",
   "nbconvert_exporter": "python",
   "pygments_lexer": "ipython3",
   "version": "3.9.18"
  }
 },
 "nbformat": 4,
 "nbformat_minor": 5
}
