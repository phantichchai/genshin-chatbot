{
 "cells": [
  {
   "cell_type": "code",
   "execution_count": 11,
   "id": "ed59f3e3-033c-4df8-8604-ecff4d5cfe6e",
   "metadata": {},
   "outputs": [],
   "source": [
    "from langchain.document_loaders import AsyncHtmlLoader\n",
    "from langchain.document_transformers import BeautifulSoupTransformer\n",
    "import re\n",
    "import torch"
   ]
  },
  {
   "cell_type": "code",
   "execution_count": 13,
   "id": "210d4f1b-f483-4e88-8b16-162c819f78c4",
   "metadata": {},
   "outputs": [
    {
     "data": {
      "text/plain": [
       "'cuda'"
      ]
     },
     "execution_count": 13,
     "metadata": {},
     "output_type": "execute_result"
    }
   ],
   "source": [
    "device = \"cuda\" if torch.cuda.is_available() else \"cpu\"\n",
    "device"
   ]
  },
  {
   "cell_type": "code",
   "execution_count": 74,
   "id": "808755cc-f774-4aae-9b9d-e0bd9beedcac",
   "metadata": {
    "scrolled": true
   },
   "outputs": [
    {
     "name": "stderr",
     "output_type": "stream",
     "text": [
      "Fetching pages: 100%|#############################################################################################################################| 1/1 [00:00<00:00, 12.85it/s]\n"
     ]
    }
   ],
   "source": [
    "base_url = \"https://genshin-impact.fandom.com\"\n",
    "urls = [\"https://genshin-impact.fandom.com/wiki/Character/List\"]\n",
    "loader = AsyncHtmlLoader(urls)\n",
    "html = loader.load()"
   ]
  },
  {
   "cell_type": "code",
   "execution_count": 75,
   "id": "7b07cbfa-379c-4df4-ae1e-77c185b3e61c",
   "metadata": {},
   "outputs": [],
   "source": [
    "bs_transformer = BeautifulSoupTransformer()\n",
    "docs_transformed = bs_transformer.transform_documents(\n",
    "    html, tags_to_extract=[\"table\"]\n",
    ")"
   ]
  },
  {
   "cell_type": "code",
   "execution_count": 76,
   "id": "0551457c-3206-4b9b-a8b7-4b8446fa454f",
   "metadata": {},
   "outputs": [
    {
     "data": {
      "text/plain": [
       "'https://genshin-impact.fandom.com/wiki/Furina/Lore'"
      ]
     },
     "execution_count": 76,
     "metadata": {},
     "output_type": "execute_result"
    }
   ],
   "source": [
    "wiki = [item[1:-1] for item in set(docs_transformed[0].page_content.split()) if \"wiki\" in item]\n",
    "search_url = base_url\n",
    "for path in wiki:\n",
    "    search_url += path + \"/Lore\"  if 'furina' in path.lower() else \"\"\n",
    "search_url"
   ]
  },
  {
   "cell_type": "code",
   "execution_count": 77,
   "id": "df349518-f46e-48eb-aabb-cf8eceb36655",
   "metadata": {},
   "outputs": [
    {
     "name": "stderr",
     "output_type": "stream",
     "text": [
      "Fetching pages: 100%|#############################################################################################################################| 1/1 [00:00<00:00, 22.57it/s]\n"
     ]
    }
   ],
   "source": [
    "loader = AsyncHtmlLoader(search_url)\n",
    "html = loader.load()"
   ]
  },
  {
   "cell_type": "code",
   "execution_count": 78,
   "id": "dc4eb423-37d9-46e3-acf4-72e0871613c8",
   "metadata": {
    "scrolled": true
   },
   "outputs": [
    {
     "data": {
      "text/plain": [
       "102612"
      ]
     },
     "execution_count": 78,
     "metadata": {},
     "output_type": "execute_result"
    }
   ],
   "source": [
    "docs_transformed = bs_transformer.transform_documents(\n",
    "    html\n",
    ")\n",
    "len(docs_transformed[0].page_content)"
   ]
  },
  {
   "cell_type": "markdown",
   "id": "25e8c734-c14d-4b86-acfc-0c69d5645f13",
   "metadata": {},
   "source": [
    "### Convert to Vector Store"
   ]
  },
  {
   "cell_type": "code",
   "execution_count": 36,
   "id": "d6371421-a114-4010-9e43-c53679436fe3",
   "metadata": {},
   "outputs": [],
   "source": [
    "from langchain.text_splitter import RecursiveCharacterTextSplitter, HTMLHeaderTextSplitter\n",
    "from langchain.document_loaders import AsyncHtmlLoader\n",
    "from langchain.embeddings import HuggingFaceEmbeddings\n",
    "from langchain.vectorstores.faiss import FAISS"
   ]
  },
  {
   "cell_type": "code",
   "execution_count": 37,
   "id": "5d48b52a-6053-4f1c-b692-7daa69475740",
   "metadata": {},
   "outputs": [
    {
     "name": "stderr",
     "output_type": "stream",
     "text": [
      "Fetching pages: 100%|#############################################################################################################################| 1/1 [00:00<00:00, 11.29it/s]\n"
     ]
    }
   ],
   "source": [
    "loader = AsyncHtmlLoader(search_url)\n",
    "documents = loader.load()"
   ]
  },
  {
   "cell_type": "code",
   "execution_count": 38,
   "id": "1f99cb6d-8e70-418c-8bff-75bdd563d80f",
   "metadata": {},
   "outputs": [],
   "source": [
    "embeddings = HuggingFaceEmbeddings(model_name = 'sentence-transformers/all-MiniLM-L6-v2', model_kwargs= {'device': device})"
   ]
  },
  {
   "cell_type": "markdown",
   "id": "3a36ed24-6f6a-4dcb-a089-dd7c1db8d220",
   "metadata": {
    "jp-MarkdownHeadingCollapsed": true
   },
   "source": [
    "### Using RecursiveCharacterTextSplitter"
   ]
  },
  {
   "cell_type": "code",
   "execution_count": 39,
   "id": "987a0185-8ec9-4047-b7ea-b88e0f355e5a",
   "metadata": {},
   "outputs": [],
   "source": [
    "text_splitter = RecursiveCharacterTextSplitter(chunk_size = 500, chunk_overlap = 50)\n",
    "texts = text_splitter.split_documents(documents=documents)"
   ]
  },
  {
   "cell_type": "code",
   "execution_count": 41,
   "id": "c725846b-7d1a-46db-b1de-65d1f25edda4",
   "metadata": {},
   "outputs": [
    {
     "data": {
      "text/plain": [
       "960"
      ]
     },
     "execution_count": 41,
     "metadata": {},
     "output_type": "execute_result"
    }
   ],
   "source": [
    "len(texts)"
   ]
  },
  {
   "cell_type": "markdown",
   "id": "ec32e3a5-4b19-4e70-804f-b8c33d3b9b82",
   "metadata": {},
   "source": [
    "### Using HTMLHeaderTextSplitter"
   ]
  },
  {
   "cell_type": "code",
   "execution_count": 117,
   "id": "b3dcae35-ce77-4ab9-ab2b-123d49b73a6e",
   "metadata": {},
   "outputs": [],
   "source": [
    "headers_to_split_on = [\n",
    "    (\"h1\", \"Header 1\"),\n",
    "    (\"h2\", \"Header 2\"),\n",
    "    (\"h3\", \"Header 3\"),\n",
    "]"
   ]
  },
  {
   "cell_type": "code",
   "execution_count": 118,
   "id": "1b432793-0c82-4b28-af4a-c109a5433a20",
   "metadata": {},
   "outputs": [],
   "source": [
    "text_splitter_html = HTMLHeaderTextSplitter(headers_to_split_on)\n",
    "texts_html = text_splitter_html.split_text(documents[0].page_content)"
   ]
  },
  {
   "cell_type": "code",
   "execution_count": 119,
   "id": "c5601310-b74e-4c2c-af45-ece10cac6614",
   "metadata": {},
   "outputs": [
    {
     "data": {
      "text/plain": [
       "36"
      ]
     },
     "execution_count": 119,
     "metadata": {},
     "output_type": "execute_result"
    }
   ],
   "source": [
    "len(texts_html)"
   ]
  },
  {
   "cell_type": "code",
   "execution_count": 156,
   "id": "465abbab-49a9-47bb-801b-311644a0fdd1",
   "metadata": {},
   "outputs": [],
   "source": [
    "def isInfo(metadata):\n",
    "    return len(metadata) != 0"
   ]
  },
  {
   "cell_type": "code",
   "execution_count": 163,
   "id": "fe111a52-afe5-47ad-8e78-2b3fcb9a6144",
   "metadata": {},
   "outputs": [
    {
     "data": {
      "text/plain": [
       "22"
      ]
     },
     "execution_count": 163,
     "metadata": {},
     "output_type": "execute_result"
    }
   ],
   "source": [
    "refined_documents = []\n",
    "for i in range(len(texts_html[:24])):\n",
    "    if isInfo(texts_html[i].metadata):\n",
    "        refined_documents.append(texts_html[i])\n",
    "len(refined_documents)"
   ]
  },
  {
   "cell_type": "code",
   "execution_count": 151,
   "id": "49f5d442-b712-44aa-8cf6-0da8803320f3",
   "metadata": {},
   "outputs": [
    {
     "name": "stdout",
     "output_type": "stream",
     "text": [
      "Media Kit Contact\n"
     ]
    }
   ],
   "source": [
    "print(texts_html[34].page_content)"
   ]
  },
  {
   "cell_type": "markdown",
   "id": "a19a36da-4559-4db7-b302-9ff43b538b5a",
   "metadata": {
    "jp-MarkdownHeadingCollapsed": true
   },
   "source": [
    "### Save into vectorstores/db_faiss"
   ]
  },
  {
   "cell_type": "code",
   "execution_count": 368,
   "id": "29b49740-27aa-45b5-af2f-b2d7e9057c34",
   "metadata": {},
   "outputs": [],
   "source": [
    "DB_FAISS_PATH = \"vectorstores/db_faiss\"\n",
    "\n",
    "db = FAISS.from_documents(texts, embeddings)\n",
    "db.save_local(DB_FAISS_PATH)"
   ]
  },
  {
   "cell_type": "code",
   "execution_count": null,
   "id": "84b288f4-2647-466c-849b-618ba4bf5c27",
   "metadata": {},
   "outputs": [],
   "source": []
  }
 ],
 "metadata": {
  "kernelspec": {
   "display_name": "Python 3 (ipykernel)",
   "language": "python",
   "name": "python3"
  },
  "language_info": {
   "codemirror_mode": {
    "name": "ipython",
    "version": 3
   },
   "file_extension": ".py",
   "mimetype": "text/x-python",
   "name": "python",
   "nbconvert_exporter": "python",
   "pygments_lexer": "ipython3",
   "version": "3.9.18"
  }
 },
 "nbformat": 4,
 "nbformat_minor": 5
}
